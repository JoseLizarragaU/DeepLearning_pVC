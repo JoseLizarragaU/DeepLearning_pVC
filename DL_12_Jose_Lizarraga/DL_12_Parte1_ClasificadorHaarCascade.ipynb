{
 "cells": [
  {
   "cell_type": "markdown",
   "metadata": {},
   "source": [
    "<!--Información del curso-->\n",
    "<img align=\"left\" style=\"padding-right:10px;\" src=\"figuras/banner_dl.png\">"
   ]
  },
  {
   "cell_type": "markdown",
   "metadata": {},
   "source": [
    "<center><h1 style=\"font-size:2em;color:#2467C0\"> Clasificador Haar Cascade\n",
    " </h1></center>\n",
    " \n",
    "    \n",
    "    \n",
    "## Objetivo\n",
    "    \n",
    "    \n",
    "En esta lección se mostrará el uso del clasificador Haar Cascade para encontrar  rostros en imagenes.\n",
    "   \n",
    " "
   ]
  },
  {
   "cell_type": "markdown",
   "metadata": {},
   "source": [
    "# Cargar librerias"
   ]
  },
  {
   "cell_type": "code",
   "execution_count": null,
   "metadata": {},
   "outputs": [],
   "source": [
    "import matplotlib.pyplot as plt\n",
    "import numpy as np\n",
    "import cv2 as cv"
   ]
  },
  {
   "cell_type": "code",
   "execution_count": null,
   "metadata": {},
   "outputs": [],
   "source": [
    "#Mostramos la imagen original\n",
    "img = cv.imread('figuras/bbt.jpeg')\n",
    "img = cv.cvtColor(img, cv.COLOR_BGR2RGB)\n",
    "plt.figure(figsize=(13,8))\n",
    "plt.imshow(img)\n",
    "plt.show()"
   ]
  },
  {
   "cell_type": "markdown",
   "metadata": {},
   "source": [
    "# Buscando rostros en una imagen"
   ]
  },
  {
   "cell_type": "code",
   "execution_count": null,
   "metadata": {},
   "outputs": [],
   "source": [
    "#Cargando la imagen\n",
    "img = cv.imread('figuras/bbt.jpeg')\n",
    "img = cv.cvtColor(img, cv.COLOR_BGR2RGB)\n"
   ]
  },
  {
   "cell_type": "code",
   "execution_count": null,
   "metadata": {},
   "outputs": [],
   "source": [
    "#Cargando el clasificador \n",
    "face_cascade = cv.CascadeClassifier('datos/haarcascade_frontalface_default.xml') "
   ]
  },
  {
   "cell_type": "code",
   "execution_count": null,
   "metadata": {},
   "outputs": [],
   "source": [
    "#Convertimos a escala de grises\n",
    "img_grey = cv.cvtColor(img, cv.COLOR_BGR2GRAY)\n",
    "plt.figure(figsize=(13,8))\n",
    "plt.imshow(img_grey,cmap='gray')\n",
    "plt.show()"
   ]
  },
  {
   "cell_type": "code",
   "execution_count": null,
   "metadata": {},
   "outputs": [],
   "source": [
    "#Realizamos la búsqueda de rostros en la imagen \n",
    "# 1.1 y 5 son valores típicos para una buena búsqueda\n",
    "faces = face_cascade.detectMultiScale(img_grey, 1.1, 5)\n",
    "print(faces)"
   ]
  },
  {
   "cell_type": "code",
   "execution_count": null,
   "metadata": {},
   "outputs": [],
   "source": [
    "#Dibujamos rectangulos sobre la imagen original y mostramos nuevamente la imagen\n",
    "for (x,y,w,h) in faces:\n",
    "     cv.rectangle(img,(x,y),(x+w,y+h),(255,0,0),2)\n",
    "plt.figure(figsize=(13,8))\n",
    "plt.imshow(img)\n",
    "plt.show()"
   ]
  },
  {
   "cell_type": "code",
   "execution_count": null,
   "metadata": {},
   "outputs": [],
   "source": []
  },
  {
   "cell_type": "code",
   "execution_count": null,
   "metadata": {},
   "outputs": [],
   "source": [
    "#probar la binarizacion en una imagen del video\n",
    "img = cv.imread('figuras/bbt.jpeg')\n",
    "img = cv.cvtColor(img, cv.COLOR_BGR2RGB)\n",
    "\n",
    "fig, ax = plt.subplots(figsize=(14,14))\n",
    "ax.imshow(img)\n",
    "ax.minorticks_on()\n",
    "ax.grid(which='major', linestyle='-', linewidth='1.5', color='red')\n",
    "ax.grid(which='minor', linestyle=':', linewidth='0.9', color='white')  "
   ]
  },
  {
   "cell_type": "code",
   "execution_count": null,
   "metadata": {},
   "outputs": [],
   "source": [
    "print (faces)"
   ]
  },
  {
   "cell_type": "code",
   "execution_count": null,
   "metadata": {},
   "outputs": [],
   "source": [
    "face_cascade = cv.CascadeClassifier('datos/haarcascade_frontalface_default.xml')\n",
    "faces = face_cascade.detectMultiScale(img_grey, 1.3, 5)\n",
    "for (x,y,w,h) in faces:\n",
    "     cv.rectangle(img,(x,y),(x+w,y+h),(255,0,0),2)\n",
    "plt.imshow(img)\n",
    "plt.show()"
   ]
  },
  {
   "cell_type": "code",
   "execution_count": null,
   "metadata": {},
   "outputs": [],
   "source": [
    "for (x,y,w,h) in faces:\n",
    "    plt.imshow(img[y:y+h , x : x+w] ) \n",
    "    plt.show()"
   ]
  },
  {
   "cell_type": "code",
   "execution_count": null,
   "metadata": {},
   "outputs": [],
   "source": []
  }
 ],
 "metadata": {
  "kernelspec": {
   "display_name": "Python 3 (ipykernel)",
   "language": "python",
   "name": "python3"
  },
  "language_info": {
   "codemirror_mode": {
    "name": "ipython",
    "version": 3
   },
   "file_extension": ".py",
   "mimetype": "text/x-python",
   "name": "python",
   "nbconvert_exporter": "python",
   "pygments_lexer": "ipython3",
   "version": "3.10.7"
  }
 },
 "nbformat": 4,
 "nbformat_minor": 4
}
